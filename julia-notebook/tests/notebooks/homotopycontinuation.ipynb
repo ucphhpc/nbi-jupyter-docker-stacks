{
 "cells": [
  {
   "cell_type": "code",
   "execution_count": null,
   "id": "85c5bae3",
   "metadata": {
    "vscode": {
     "languageId": "plaintext"
    }
   },
   "outputs": [],
   "source": [
    "# load the package\n",
    "using HomotopyContinuation"
   ]
  },
  {
   "cell_type": "code",
   "execution_count": null,
   "id": "dbefda24",
   "metadata": {
    "vscode": {
     "languageId": "plaintext"
    }
   },
   "outputs": [],
   "source": [
    "# declare variables x and y\n",
    "@var x y\n",
    "# define the polynomials\n",
    "f₁ = (x^4 + y^4 - 1) * (x^2 + y^2 - 2) + x^5 * y\n",
    "f₂ = x^2+2x*y^2 - 2y^2 - 1/2\n",
    "F = System([f₁, f₂])\n",
    "result = solve(F)"
   ]
  }
 ],
 "metadata": {
  "language_info": {
   "name": "python"
  }
 },
 "nbformat": 4,
 "nbformat_minor": 5
}
