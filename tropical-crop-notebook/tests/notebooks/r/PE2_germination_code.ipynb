{
 "cells": [
  {
   "cell_type": "code",
   "execution_count": null,
   "metadata": {},
   "outputs": [],
   "source": [
    "library(drc)\n",
    "library(bmd)\n",
    "library(dplyr)\n",
    "library(ggplot2)"
   ]
  },
  {
   "cell_type": "code",
   "execution_count": null,
   "metadata": {},
   "outputs": [],
   "source": [
    "m <- read.csv(\"/app/tests/res/PE2_germination_data.csv\")\n",
    "head(m)\n",
    "tail(m)"
   ]
  },
  {
   "cell_type": "code",
   "execution_count": null,
   "metadata": {},
   "outputs": [],
   "source": [
    "#calculating cumulative observations\n",
    "m_cumu <- m %>%                                   #we create a new dataframe with an extra column for cumulative observations\n",
    "  #group_by(experiment, rep, treatment) %>%        #cumulative observations are grouped by factors (here we have three factors, this can be adjusted for more or less factors)\n",
    "    group_by(treatment) %>%        #cumulative observations are grouped by factors (here we have three factors, this can be adjusted for more or less factors)\n",
    "\n",
    "  mutate(cumulative_observations = cumsum(obs))   #cumulative observations are stored in a new column\n",
    "\n",
    "head(m_cumu)\n",
    "tail(m_cumu)"
   ]
  },
  {
   "cell_type": "code",
   "execution_count": null,
   "metadata": {},
   "outputs": [],
   "source": [
    "ggplot(m_cumu, aes(x = start, y = cumulative_observations)) +\n",
    "  geom_point()"
   ]
  },
  {
   "cell_type": "code",
   "execution_count": null,
   "metadata": {},
   "outputs": [],
   "source": [
    "#plot cumulative observations, grouped by treatment\n",
    "ggplot(m_cumu, aes(x = start, y = cumulative_observations, color = as.factor(treatment))) +\n",
    "  geom_point()+\n",
    "  ggtitle(\"Cumulative observations per treatment\")"
   ]
  },
  {
   "cell_type": "code",
   "execution_count": null,
   "metadata": {},
   "outputs": [],
   "source": [
    "?drm\n",
    "getMeanFunctions()"
   ]
  },
  {
   "cell_type": "code",
   "execution_count": null,
   "metadata": {},
   "outputs": [],
   "source": [
    "model_LL<-drm(obs~start+end, # The formula (in terms of the variables in the data)\n",
    "               type=\"event\", # the type of the data\n",
    "               fct=LL.2(), # the function of the model \n",
    "               data= m, # specifying the name of the data set\n",
    "               curveid = treatment, # the curve identifier (grouping variable)\n",
    "               separate = TRUE) # to fit every treatment independently"
   ]
  },
  {
   "cell_type": "code",
   "execution_count": null,
   "metadata": {},
   "outputs": [],
   "source": [
    "model_W1<-drm(obs~start+end,type=\"event\", fct=W1.2(),data= m, curveid = treatment, separate = TRUE)\n",
    "model_W2<-drm(obs~start+end,type=\"event\", fct=W2.2(),data= m, curveid = treatment, separate = TRUE)"
   ]
  },
  {
   "cell_type": "code",
   "execution_count": null,
   "metadata": {},
   "outputs": [],
   "source": [
    "?AIC()"
   ]
  },
  {
   "cell_type": "code",
   "execution_count": null,
   "metadata": {},
   "outputs": [],
   "source": [
    "aic_df_LL <- data.frame(\n",
    "  Treatment = names(lapply(model_LL$objList, function(x) AIC(x))),\n",
    "  AIC_LL3 = unlist(lapply(model_LL$objList, function(x) AIC(x)))\n",
    ")\n",
    "\n",
    "aic_df_W1 <- data.frame(\n",
    "  Treatment = names(lapply(model_W1$objList, function(x) AIC(x))),\n",
    "  AIC_W1 = unlist(lapply(model_W1$objList, function(x) AIC(x)))\n",
    ")\n",
    "\n",
    "aic_df_W2 <- data.frame(\n",
    "  Treatment = names(lapply(model_W2$objList, function(x) AIC(x))),\n",
    "  AIC_W2 = unlist(lapply(model_W2$objList, function(x) AIC(x)))\n",
    ")"
   ]
  },
  {
   "cell_type": "code",
   "execution_count": null,
   "metadata": {},
   "outputs": [],
   "source": [
    "AIC_df <- data.frame(\n",
    "  Treatment = names(lapply(model_LL$objList, function(x) AIC(x))),\n",
    "  AIC_LL = unlist(lapply(model_LL$objList, function(x) AIC(x))),\n",
    "  AIC_W1 = unlist(lapply(model_W1$objList, function(x) AIC(x))),\n",
    "  AIC_W2 = unlist(lapply(model_W2$objList, function(x) AIC(x)))\n",
    ")\n",
    "AIC_df$MinAIC <- \n",
    "  apply(AIC_df[, 2:4], 1, function(x) {colnames(AIC_df)[2:4][which.min(x)]}) #we create a column that displays the name of the model with the lowest AIC\n",
    "\n",
    "rownames(AIC_df) <- NULL\n",
    "\n",
    "print(AIC_df)"
   ]
  },
  {
   "cell_type": "code",
   "execution_count": null,
   "metadata": {},
   "outputs": [],
   "source": [
    "plot(model_LL, log=\"\", ylim=c(0,1), xlim=c(0,12), col=TRUE,lwd =\"2\",\n",
    "     legendPos=c(2, 1.0), legendText = c(\"21 °C\",\"15 °C\", \"5 °C\",\"2.5 °C\"),\n",
    "     xlab=\"Days from experimental start\", ylab=\"Fraction of germinated seeds\",\n",
    "     main= \"Soy beans germinated at five temperatures\")"
   ]
  },
  {
   "cell_type": "code",
   "execution_count": null,
   "metadata": {},
   "outputs": [],
   "source": [
    "qplotDrc(model_LL,\n",
    "         col=TRUE,\n",
    "     xlab=\"Days from experimental start\", ylab=\"Fraction of germinated seeds\") +\n",
    "    ggtitle(\"Soy beans germinated at five temperatures\")+\n",
    "    labs(col = \"Temperature\")"
   ]
  },
  {
   "cell_type": "code",
   "execution_count": null,
   "metadata": {},
   "outputs": [],
   "source": [
    "model_LL$objList                  #parameters for each treatment\n",
    "lapply(model_LL$objList, confint) #confidence interval for each parameter for each treatment"
   ]
  }
 ],
 "metadata": {
  "kernelspec": {
   "display_name": "Python 3.8.9 ('venv': venv)",
   "language": "python",
   "name": "python3"
  },
  "language_info": {
   "name": "python",
   "version": "3.8.9"
  },
  "vscode": {
   "interpreter": {
    "hash": "1cde3a5b1bbd1885b79c1679fd931742e99efa04511949f4271f0cdd5f33659b"
   }
  }
 },
 "nbformat": 4,
 "nbformat_minor": 2
}
