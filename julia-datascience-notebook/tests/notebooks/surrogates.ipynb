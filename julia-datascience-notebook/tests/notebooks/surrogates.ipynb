{
 "cells": [
  {
   "cell_type": "code",
   "execution_count": null,
   "id": "972ead84-63f9-411f-9052-e6ec42a54c5d",
   "metadata": {},
   "outputs": [],
   "source": [
    "using Test"
   ]
  },
  {
   "cell_type": "code",
   "execution_count": 2,
   "id": "1bafe864-1373-4377-a20b-f65f8b789ce4",
   "metadata": {},
   "outputs": [
    {
     "ename": "SyntaxError",
     "evalue": "invalid syntax (1176252391.py, line 1)",
     "output_type": "error",
     "traceback": [
      "\u001b[0;36m  Cell \u001b[0;32mIn[2], line 1\u001b[0;36m\u001b[0m\n\u001b[0;31m    using Surrogates\u001b[0m\n\u001b[0m          ^\u001b[0m\n\u001b[0;31mSyntaxError\u001b[0m\u001b[0;31m:\u001b[0m invalid syntax\n"
     ]
    }
   ],
   "source": [
    "# taken from quick example: https://docs.sciml.ai/Surrogates/stable/\n",
    "using Surrogates\n",
    "num_samples = 10\n",
    "lb = 0.0\n",
    "ub = 10.0\n",
    "\n",
    "#Sampling\n",
    "x = sample(num_samples,lb,ub,SobolSample())\n",
    "f = x-> log(x)*x^2+x^3\n",
    "y = f.(x)\n",
    "\n",
    "#Creating surrogate\n",
    "alpha = 2.0\n",
    "n = 6\n",
    "my_lobachevsky = LobachevskySurrogate(x,y,lb,ub,alpha=alpha,n=n)\n",
    "\n",
    "#Approximating value at 5.0\n",
    "value = my_lobachevsky(5.0)\n",
    "\n",
    "#Adding more data points\n",
    "surrogate_optimize(f,SRBF(),lb,ub,my_lobachevsky,RandomSample())\n",
    "\n",
    "#New approximation\n",
    "value = my_lobachevsky(5.0)\n",
    "@test value == 135.03849067814392"
   ]
  },
  {
   "cell_type": "code",
   "execution_count": null,
   "id": "5b34ce7e-b805-4d28-bdae-1775359447c5",
   "metadata": {},
   "outputs": [],
   "source": []
  }
 ],
 "metadata": {
  "kernelspec": {
   "display_name": "Python 3 (ipykernel)",
   "language": "python",
   "name": "python3"
  },
  "language_info": {
   "codemirror_mode": {
    "name": "ipython",
    "version": 3
   },
   "file_extension": ".py",
   "mimetype": "text/x-python",
   "name": "python",
   "nbconvert_exporter": "python",
   "pygments_lexer": "ipython3",
   "version": "3.11.7"
  }
 },
 "nbformat": 4,
 "nbformat_minor": 5
}
